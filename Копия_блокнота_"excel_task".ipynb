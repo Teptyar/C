{
  "nbformat": 4,
  "nbformat_minor": 0,
  "metadata": {
    "colab": {
      "provenance": [],
      "toc_visible": true,
      "include_colab_link": true
    },
    "kernelspec": {
      "name": "python3",
      "display_name": "Python 3"
    },
    "language_info": {
      "name": "python"
    }
  },
  "cells": [
    {
      "cell_type": "markdown",
      "metadata": {
        "id": "view-in-github",
        "colab_type": "text"
      },
      "source": [
        "<a href=\"https://colab.research.google.com/github/Teptyar/C/blob/master/%D0%9A%D0%BE%D0%BF%D0%B8%D1%8F_%D0%B1%D0%BB%D0%BE%D0%BA%D0%BD%D0%BE%D1%82%D0%B0_%22excel_task%22.ipynb\" target=\"_parent\"><img src=\"https://colab.research.google.com/assets/colab-badge.svg\" alt=\"Open In Colab\"/></a>"
      ]
    },
    {
      "cell_type": "code",
      "execution_count": null,
      "metadata": {
        "id": "s9H75V_7ROwu"
      },
      "outputs": [],
      "source": [
        "# https://openpyxl.readthedocs.io/en/stable/\n",
        "# https://www.geeksforgeeks.org/python-reading-excel-file-using-openpyxl-module/"
      ]
    },
    {
      "cell_type": "code",
      "source": [
        "import openpyxl"
      ],
      "metadata": {
        "id": "5rVerparRoVC"
      },
      "execution_count": null,
      "outputs": []
    },
    {
      "cell_type": "code",
      "source": [
        "path = \"data.xlsx\"\n",
        "wb_obj = openpyxl.load_workbook(path)\n",
        "sheet_obj = wb_obj.active"
      ],
      "metadata": {
        "id": "UPuenELyRr6P"
      },
      "execution_count": null,
      "outputs": []
    },
    {
      "cell_type": "code",
      "source": [
        "sheet_obj\n"
      ],
      "metadata": {
        "colab": {
          "base_uri": "https://localhost:8080/"
        },
        "id": "d_1Ylc8BSU4G",
        "outputId": "8ade54e2-d272-49f3-d751-22677174ad00"
      },
      "execution_count": null,
      "outputs": [
        {
          "output_type": "execute_result",
          "data": {
            "text/plain": [
              "<Worksheet \"Лист1\">"
            ]
          },
          "metadata": {},
          "execution_count": 12
        }
      ]
    },
    {
      "cell_type": "code",
      "source": [
        "for i in range(1, 5):\n",
        "    cell_obj = sheet_obj.cell(row = 1, column = i)\n",
        "    print(cell_obj.value)"
      ],
      "metadata": {
        "colab": {
          "base_uri": "https://localhost:8080/"
        },
        "id": "ldz1jiZzURxX",
        "outputId": "f9d13982-3e13-43ba-aee2-7a4392c502e7"
      },
      "execution_count": null,
      "outputs": [
        {
          "output_type": "stream",
          "name": "stdout",
          "text": [
            "Дата\n",
            "№сф\n",
            "Поставщик\n",
            "Сумма\n"
          ]
        }
      ]
    },
    {
      "cell_type": "code",
      "source": [
        "sheet_obj.cell(row = 50, column = 50).value is None"
      ],
      "metadata": {
        "colab": {
          "base_uri": "https://localhost:8080/"
        },
        "id": "EvOGFtVMUfS5",
        "outputId": "8f7eab00-3e8e-42b1-dd1f-6e59bacf4a3d"
      },
      "execution_count": null,
      "outputs": [
        {
          "output_type": "execute_result",
          "data": {
            "text/plain": [
              "True"
            ]
          },
          "metadata": {},
          "execution_count": 17
        }
      ]
    },
    {
      "cell_type": "code",
      "source": [
        "invoice_num = 0\n",
        "row_num = 2\n",
        "\n",
        "while invoice_num is not None:\n",
        "    invoice_date = sheet_obj.cell(row = row_num, column = 1).value\n",
        "    invoice_num = sheet_obj.cell(row = row_num, column = 2).value\n",
        "    provider = sheet_obj.cell(row = row_num, column = 3).value\n",
        "    invoice_sum = sheet_obj.cell(row = row_num, column = 4).value\n",
        "\n",
        "    print(invoice_date, invoice_num, provider, invoice_sum)\n",
        "\n",
        "    row_num += 1\n",
        "\n",
        "\n",
        "\n"
      ],
      "metadata": {
        "id": "L2bMW0d0WP3c",
        "colab": {
          "base_uri": "https://localhost:8080/",
          "height": 211
        },
        "outputId": "70f2c582-4e5c-49c5-cb1a-3f64dda89880"
      },
      "execution_count": null,
      "outputs": [
        {
          "output_type": "error",
          "ename": "NameError",
          "evalue": "name 'sheet_obj' is not defined",
          "traceback": [
            "\u001b[0;31m---------------------------------------------------------------------------\u001b[0m",
            "\u001b[0;31mNameError\u001b[0m                                 Traceback (most recent call last)",
            "\u001b[0;32m<ipython-input-3-d2c2d83b26f8>\u001b[0m in \u001b[0;36m<cell line: 4>\u001b[0;34m()\u001b[0m\n\u001b[1;32m      3\u001b[0m \u001b[0;34m\u001b[0m\u001b[0m\n\u001b[1;32m      4\u001b[0m \u001b[0;32mwhile\u001b[0m \u001b[0minvoice_num\u001b[0m \u001b[0;32mis\u001b[0m \u001b[0;32mnot\u001b[0m \u001b[0;32mNone\u001b[0m\u001b[0;34m:\u001b[0m\u001b[0;34m\u001b[0m\u001b[0;34m\u001b[0m\u001b[0m\n\u001b[0;32m----> 5\u001b[0;31m     \u001b[0minvoice_date\u001b[0m \u001b[0;34m=\u001b[0m \u001b[0msheet_obj\u001b[0m\u001b[0;34m.\u001b[0m\u001b[0mcell\u001b[0m\u001b[0;34m(\u001b[0m\u001b[0mrow\u001b[0m \u001b[0;34m=\u001b[0m \u001b[0mrow_num\u001b[0m\u001b[0;34m,\u001b[0m \u001b[0mcolumn\u001b[0m \u001b[0;34m=\u001b[0m \u001b[0;36m1\u001b[0m\u001b[0;34m)\u001b[0m\u001b[0;34m.\u001b[0m\u001b[0mvalue\u001b[0m\u001b[0;34m\u001b[0m\u001b[0;34m\u001b[0m\u001b[0m\n\u001b[0m\u001b[1;32m      6\u001b[0m     \u001b[0minvoice_num\u001b[0m \u001b[0;34m=\u001b[0m \u001b[0msheet_obj\u001b[0m\u001b[0;34m.\u001b[0m\u001b[0mcell\u001b[0m\u001b[0;34m(\u001b[0m\u001b[0mrow\u001b[0m \u001b[0;34m=\u001b[0m \u001b[0mrow_num\u001b[0m\u001b[0;34m,\u001b[0m \u001b[0mcolumn\u001b[0m \u001b[0;34m=\u001b[0m \u001b[0;36m2\u001b[0m\u001b[0;34m)\u001b[0m\u001b[0;34m.\u001b[0m\u001b[0mvalue\u001b[0m\u001b[0;34m\u001b[0m\u001b[0;34m\u001b[0m\u001b[0m\n\u001b[1;32m      7\u001b[0m     \u001b[0mprovider\u001b[0m \u001b[0;34m=\u001b[0m \u001b[0msheet_obj\u001b[0m\u001b[0;34m.\u001b[0m\u001b[0mcell\u001b[0m\u001b[0;34m(\u001b[0m\u001b[0mrow\u001b[0m \u001b[0;34m=\u001b[0m \u001b[0mrow_num\u001b[0m\u001b[0;34m,\u001b[0m \u001b[0mcolumn\u001b[0m \u001b[0;34m=\u001b[0m \u001b[0;36m3\u001b[0m\u001b[0;34m)\u001b[0m\u001b[0;34m.\u001b[0m\u001b[0mvalue\u001b[0m\u001b[0;34m\u001b[0m\u001b[0;34m\u001b[0m\u001b[0m\n",
            "\u001b[0;31mNameError\u001b[0m: name 'sheet_obj' is not defined"
          ]
        }
      ]
    },
    {
      "cell_type": "code",
      "source": [
        "class A:\n",
        "  e = None\n",
        "  u = 4\n",
        "  def f(self):\n",
        "    print(\"lalala\")\n",
        "    return 8"
      ],
      "metadata": {
        "id": "vHsBCTCqYm4m"
      },
      "execution_count": null,
      "outputs": []
    },
    {
      "cell_type": "code",
      "source": [
        "a = A()\n",
        "print(a.u)"
      ],
      "metadata": {
        "colab": {
          "base_uri": "https://localhost:8080/"
        },
        "id": "MLkWNzaWeD_7",
        "outputId": "51032833-1c53-4c82-d5b7-9d74d3341dc4"
      },
      "execution_count": null,
      "outputs": [
        {
          "output_type": "stream",
          "name": "stdout",
          "text": [
            "4\n"
          ]
        }
      ]
    },
    {
      "cell_type": "code",
      "source": [
        "t = a.f()"
      ],
      "metadata": {
        "colab": {
          "base_uri": "https://localhost:8080/"
        },
        "id": "Aam8brv7eIoq",
        "outputId": "0359967c-c081-4418-ea9f-c6757b21da24"
      },
      "execution_count": null,
      "outputs": [
        {
          "output_type": "stream",
          "name": "stdout",
          "text": [
            "lalala\n"
          ]
        }
      ]
    },
    {
      "cell_type": "code",
      "source": [
        "print(t)"
      ],
      "metadata": {
        "colab": {
          "base_uri": "https://localhost:8080/"
        },
        "id": "_iWZ65FzeOqZ",
        "outputId": "5717fbbc-3ecd-4e16-94fa-304f2e1482f2"
      },
      "execution_count": null,
      "outputs": [
        {
          "output_type": "stream",
          "name": "stdout",
          "text": [
            "8\n"
          ]
        }
      ]
    },
    {
      "cell_type": "code",
      "source": [
        "invoice_num = 0\n",
        "row_num = 2\n",
        "\n",
        "invoices = []\n",
        "\n",
        "while invoice_num is not None:\n",
        "    invoice_date = sheet_obj.cell(row = row_num, column = 1).value\n",
        "    invoice_num = sheet_obj.cell(row = row_num, column = 2).value\n",
        "    provider = sheet_obj.cell(row = row_num, column = 3).value\n",
        "    invoice_sum = sheet_obj.cell(row = row_num, column = 4).value\n",
        "\n",
        "    invoices.append([invoice_date, invoice_num, provider, invoice_sum])\n",
        "\n",
        "    row_num += 1\n",
        "\n",
        "invoices"
      ],
      "metadata": {
        "colab": {
          "base_uri": "https://localhost:8080/"
        },
        "id": "0glelYMPfE9O",
        "outputId": "cfbbfbdf-b705-4b1e-f584-238caaa5a611"
      },
      "execution_count": null,
      "outputs": [
        {
          "output_type": "execute_result",
          "data": {
            "text/plain": [
              "[[datetime.datetime(2021, 5, 25, 0, 0), 1256523, 'ООО\"ТМК\"', 12563321.35],\n",
              " [datetime.datetime(2021, 5, 26, 0, 0),\n",
              "  '12.255.52',\n",
              "  'ООО\"Цветмет\"',\n",
              "  12568542.36],\n",
              " [datetime.datetime(2021, 5, 27, 0, 0),\n",
              "  '456852/5',\n",
              "  'ООО\"Чермет\"',\n",
              "  56848372548.2],\n",
              " [datetime.datetime(2021, 5, 28, 0, 0),\n",
              "  '4545641д',\n",
              "  'АО\"Спецстрой\"',\n",
              "  342561957.34],\n",
              " [datetime.datetime(2021, 5, 29, 0, 0),\n",
              "  89547369,\n",
              "  'ООО\"Прокатмонтаж\"',\n",
              "  4365521.5],\n",
              " [datetime.datetime(2021, 5, 25, 0, 0), 1256523, 'ООО\"ТМК\"', 12563321.35],\n",
              " [None, None, None, None]]"
            ]
          },
          "metadata": {},
          "execution_count": 48
        }
      ]
    },
    {
      "cell_type": "code",
      "source": [
        "[1, 2, 3] == [1, 2, 3]"
      ],
      "metadata": {
        "colab": {
          "base_uri": "https://localhost:8080/"
        },
        "id": "g6XEVthzj4AG",
        "outputId": "d74732dc-9f18-4bed-b50c-b84c17f8b395"
      },
      "execution_count": null,
      "outputs": [
        {
          "output_type": "execute_result",
          "data": {
            "text/plain": [
              "True"
            ]
          },
          "metadata": {},
          "execution_count": 2
        }
      ]
    },
    {
      "cell_type": "code",
      "source": [
        "dublicates = []\n",
        "n = len(invoices)\n",
        "for i in range(0, n):\n",
        "  for j in range(i + 1, n):\n",
        "    if invoices[i] == invoices[j]:\n",
        "      dublicates.append(j)\n",
        "\n",
        "\n",
        "dublicates"
      ],
      "metadata": {
        "colab": {
          "base_uri": "https://localhost:8080/"
        },
        "id": "vGgGBEGHkSJU",
        "outputId": "60439956-3cae-49d6-fd08-60162cd33ea4"
      },
      "execution_count": null,
      "outputs": [
        {
          "output_type": "execute_result",
          "data": {
            "text/plain": [
              "[5]"
            ]
          },
          "metadata": {},
          "execution_count": 52
        }
      ]
    },
    {
      "cell_type": "code",
      "source": [
        "invoices_new = []\n",
        "for i in range(0, n - 1):\n",
        "  if i not in dublicates:\n",
        "    invoices_new.append(invoices[i])\n",
        "\n",
        "invoices_new"
      ],
      "metadata": {
        "colab": {
          "base_uri": "https://localhost:8080/"
        },
        "id": "7SV8Zjlakpqj",
        "outputId": "dfee8886-f2c7-4999-b55c-e176d57040e5"
      },
      "execution_count": null,
      "outputs": [
        {
          "output_type": "execute_result",
          "data": {
            "text/plain": [
              "[[datetime.datetime(2021, 5, 25, 0, 0), 1256523, 'ООО\"ТМК\"', 12563321.35],\n",
              " [datetime.datetime(2021, 5, 26, 0, 0),\n",
              "  '12.255.52',\n",
              "  'ООО\"Цветмет\"',\n",
              "  12568542.36],\n",
              " [datetime.datetime(2021, 5, 27, 0, 0),\n",
              "  '456852/5',\n",
              "  'ООО\"Чермет\"',\n",
              "  56848372548.2],\n",
              " [datetime.datetime(2021, 5, 28, 0, 0),\n",
              "  '4545641д',\n",
              "  'АО\"Спецстрой\"',\n",
              "  342561957.34],\n",
              " [datetime.datetime(2021, 5, 29, 0, 0),\n",
              "  89547369,\n",
              "  'ООО\"Прокатмонтаж\"',\n",
              "  4365521.5]]"
            ]
          },
          "metadata": {},
          "execution_count": 57
        }
      ]
    },
    {
      "cell_type": "code",
      "source": [
        "total = 0\n",
        "for i in range(0, len(invoices_new)):\n",
        "    total = total + invoices_new[i][3]\n",
        "\n",
        "total"
      ],
      "metadata": {
        "id": "nkeYFAWamjuQ",
        "colab": {
          "base_uri": "https://localhost:8080/"
        },
        "outputId": "e74e5e46-5ce5-484d-9863-ce22a6476b20"
      },
      "execution_count": null,
      "outputs": [
        {
          "output_type": "execute_result",
          "data": {
            "text/plain": [
              "57220431890.74999"
            ]
          },
          "metadata": {},
          "execution_count": 59
        }
      ]
    },
    {
      "cell_type": "code",
      "source": [
        "for i in range(0, len(invoices)):\n",
        "    for j in range(0, 4):\n",
        "        sheet_obj.cell(row=i + 2, column=j + 1).value = None\n",
        "\n",
        "for i in range(0, len(invoices_new)):\n",
        "    for j in range(0, 4):\n",
        "        sheet_obj.cell(row=i + 2, column=j + 1).value = invoices_new[i][j]"
      ],
      "metadata": {
        "id": "bgrbyk-WaoGi"
      },
      "execution_count": null,
      "outputs": []
    },
    {
      "cell_type": "code",
      "source": [
        "sheet_obj.cell(row=len(invoices), column= 3).value = \"Итого\"\n",
        "sheet_obj.cell(row=len(invoices), column= 4).value = total"
      ],
      "metadata": {
        "id": "-ilqbK0JhXIy"
      },
      "execution_count": null,
      "outputs": []
    },
    {
      "cell_type": "code",
      "source": [
        "wb_obj.save(\"file.xlsx\")"
      ],
      "metadata": {
        "id": "bXv2uSPDc90y"
      },
      "execution_count": null,
      "outputs": []
    },
    {
      "cell_type": "markdown",
      "source": [],
      "metadata": {
        "id": "MONti4FCLtKp"
      }
    },
    {
      "cell_type": "markdown",
      "source": [],
      "metadata": {
        "id": "oe6qDk74Ltab"
      }
    },
    {
      "cell_type": "code",
      "source": [],
      "metadata": {
        "id": "iIJvYA5LLtmB"
      },
      "execution_count": null,
      "outputs": []
    },
    {
      "cell_type": "code",
      "source": [],
      "metadata": {
        "id": "fTulinQILt5k"
      },
      "execution_count": null,
      "outputs": []
    },
    {
      "cell_type": "code",
      "source": [],
      "metadata": {
        "id": "9vKiI8Cqgw4X"
      },
      "execution_count": null,
      "outputs": []
    }
  ]
}